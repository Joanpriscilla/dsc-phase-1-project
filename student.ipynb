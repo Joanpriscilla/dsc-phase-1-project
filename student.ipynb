{
 "cells": [
  {
   "cell_type": "markdown",
   "metadata": {},
   "source": [
    "## Final Project Submission\n",
    "\n",
    "Please fill out:\n",
    "* Student name: **JOAN NJOROGE**\n",
    "* Student pace: self paced / part time / full time - **PART TIME**\n",
    "* Scheduled project review date/time: \n",
    "* Instructor name: **MARYANN MWIKALI**\n",
    "* Blog post URL:\n"
   ]
  },
  {
   "cell_type": "markdown",
   "metadata": {},
   "source": [
    "## BUSINESS PROBLEM"
   ]
  },
  {
   "cell_type": "markdown",
   "metadata": {},
   "source": [
    "My analysis is based on identifying the top performing movies at the box office based on:\n",
    "1. The popularity of genres\n",
    "2. Profitability of genres.\n",
    "3. Popularity of movies based months\n",
    "4. Proftability of movies based on months\n",
    "\n",
    "I'll be using the name title basics file, the Title basics file, the TMDB movies file, and the TN.movie budgets file for this analysis."
   ]
  },
  {
   "cell_type": "code",
   "execution_count": 1,
   "metadata": {},
   "outputs": [],
   "source": [
    "#importing the necessary libraries\n",
    "\n",
    "import pandas as pd\n",
    "import pandasql as ps\n",
    "import numpy as np\n",
    "import matplotlib.pyplot as plt\n",
    "import sqlite3 \n",
    "import seaborn as sns"
   ]
  },
  {
   "cell_type": "markdown",
   "metadata": {},
   "source": [
    "## CLEANING THE TMDB_RATINGS FILE"
   ]
  },
  {
   "cell_type": "code",
   "execution_count": 2,
   "metadata": {},
   "outputs": [
    {
     "data": {
      "text/html": [
       "<div>\n",
       "<style scoped>\n",
       "    .dataframe tbody tr th:only-of-type {\n",
       "        vertical-align: middle;\n",
       "    }\n",
       "\n",
       "    .dataframe tbody tr th {\n",
       "        vertical-align: top;\n",
       "    }\n",
       "\n",
       "    .dataframe thead th {\n",
       "        text-align: right;\n",
       "    }\n",
       "</style>\n",
       "<table border=\"1\" class=\"dataframe\">\n",
       "  <thead>\n",
       "    <tr style=\"text-align: right;\">\n",
       "      <th></th>\n",
       "      <th>Unnamed: 0</th>\n",
       "      <th>genre_ids</th>\n",
       "      <th>id</th>\n",
       "      <th>original_language</th>\n",
       "      <th>original_title</th>\n",
       "      <th>popularity</th>\n",
       "      <th>release_date</th>\n",
       "      <th>title</th>\n",
       "      <th>vote_average</th>\n",
       "      <th>vote_count</th>\n",
       "    </tr>\n",
       "  </thead>\n",
       "  <tbody>\n",
       "    <tr>\n",
       "      <th>0</th>\n",
       "      <td>0</td>\n",
       "      <td>[12, 14, 10751]</td>\n",
       "      <td>12444</td>\n",
       "      <td>en</td>\n",
       "      <td>Harry Potter and the Deathly Hallows: Part 1</td>\n",
       "      <td>33.533</td>\n",
       "      <td>2010-11-19</td>\n",
       "      <td>Harry Potter and the Deathly Hallows: Part 1</td>\n",
       "      <td>7.7</td>\n",
       "      <td>10788</td>\n",
       "    </tr>\n",
       "    <tr>\n",
       "      <th>1</th>\n",
       "      <td>1</td>\n",
       "      <td>[14, 12, 16, 10751]</td>\n",
       "      <td>10191</td>\n",
       "      <td>en</td>\n",
       "      <td>How to Train Your Dragon</td>\n",
       "      <td>28.734</td>\n",
       "      <td>2010-03-26</td>\n",
       "      <td>How to Train Your Dragon</td>\n",
       "      <td>7.7</td>\n",
       "      <td>7610</td>\n",
       "    </tr>\n",
       "    <tr>\n",
       "      <th>2</th>\n",
       "      <td>2</td>\n",
       "      <td>[12, 28, 878]</td>\n",
       "      <td>10138</td>\n",
       "      <td>en</td>\n",
       "      <td>Iron Man 2</td>\n",
       "      <td>28.515</td>\n",
       "      <td>2010-05-07</td>\n",
       "      <td>Iron Man 2</td>\n",
       "      <td>6.8</td>\n",
       "      <td>12368</td>\n",
       "    </tr>\n",
       "  </tbody>\n",
       "</table>\n",
       "</div>"
      ],
      "text/plain": [
       "   Unnamed: 0            genre_ids     id original_language  \\\n",
       "0           0      [12, 14, 10751]  12444                en   \n",
       "1           1  [14, 12, 16, 10751]  10191                en   \n",
       "2           2        [12, 28, 878]  10138                en   \n",
       "\n",
       "                                 original_title  popularity release_date  \\\n",
       "0  Harry Potter and the Deathly Hallows: Part 1      33.533   2010-11-19   \n",
       "1                      How to Train Your Dragon      28.734   2010-03-26   \n",
       "2                                    Iron Man 2      28.515   2010-05-07   \n",
       "\n",
       "                                          title  vote_average  vote_count  \n",
       "0  Harry Potter and the Deathly Hallows: Part 1           7.7       10788  \n",
       "1                      How to Train Your Dragon           7.7        7610  \n",
       "2                                    Iron Man 2           6.8       12368  "
      ]
     },
     "execution_count": 2,
     "metadata": {},
     "output_type": "execute_result"
    }
   ],
   "source": [
    "#load file\n",
    "tmdb_movies = pd.read_csv('ZippedData/tmdb.movies.csv')\n",
    "tmdb_movies.head(3)"
   ]
  },
  {
   "cell_type": "code",
   "execution_count": 3,
   "metadata": {},
   "outputs": [
    {
     "name": "stdout",
     "output_type": "stream",
     "text": [
      "False    24688\n",
      "True      1829\n",
      "Name: title, dtype: int64\n"
     ]
    }
   ],
   "source": [
    "#check for duplicates\n",
    "duplicates = tmdb_movies['title'].duplicated().value_counts()\n",
    "print(duplicates)"
   ]
  },
  {
   "cell_type": "code",
   "execution_count": 4,
   "metadata": {},
   "outputs": [],
   "source": [
    "#drop duplicates\n",
    "tmdb_movies.drop_duplicates(subset = 'title', keep = 'first', inplace = True)\n",
    "\n",
    "#assert duplicates have been dropped\n",
    "duplicates = tmdb_movies['title'].duplicated().value_counts() == 0"
   ]
  },
  {
   "cell_type": "code",
   "execution_count": 5,
   "metadata": {
    "scrolled": true
   },
   "outputs": [
    {
     "data": {
      "text/html": [
       "<div>\n",
       "<style scoped>\n",
       "    .dataframe tbody tr th:only-of-type {\n",
       "        vertical-align: middle;\n",
       "    }\n",
       "\n",
       "    .dataframe tbody tr th {\n",
       "        vertical-align: top;\n",
       "    }\n",
       "\n",
       "    .dataframe thead th {\n",
       "        text-align: right;\n",
       "    }\n",
       "</style>\n",
       "<table border=\"1\" class=\"dataframe\">\n",
       "  <thead>\n",
       "    <tr style=\"text-align: right;\">\n",
       "      <th></th>\n",
       "      <th>Unnamed: 0</th>\n",
       "      <th>genre_ids</th>\n",
       "      <th>id</th>\n",
       "      <th>original_language</th>\n",
       "      <th>original_title</th>\n",
       "      <th>popularity</th>\n",
       "      <th>release_date</th>\n",
       "      <th>title</th>\n",
       "      <th>vote_average</th>\n",
       "      <th>vote_count</th>\n",
       "    </tr>\n",
       "  </thead>\n",
       "  <tbody>\n",
       "    <tr>\n",
       "      <th>0</th>\n",
       "      <td>0</td>\n",
       "      <td>[12, 14, 10751]</td>\n",
       "      <td>12444</td>\n",
       "      <td>en</td>\n",
       "      <td>Harry Potter and the Deathly Hallows: Part 1</td>\n",
       "      <td>33.533</td>\n",
       "      <td>2010-11-19</td>\n",
       "      <td>Harry Potter and the Deathly Hallows: Part 1</td>\n",
       "      <td>7.7</td>\n",
       "      <td>10788</td>\n",
       "    </tr>\n",
       "    <tr>\n",
       "      <th>1</th>\n",
       "      <td>1</td>\n",
       "      <td>[14, 12, 16, 10751]</td>\n",
       "      <td>10191</td>\n",
       "      <td>en</td>\n",
       "      <td>How to Train Your Dragon</td>\n",
       "      <td>28.734</td>\n",
       "      <td>2010-03-26</td>\n",
       "      <td>How to Train Your Dragon</td>\n",
       "      <td>7.7</td>\n",
       "      <td>7610</td>\n",
       "    </tr>\n",
       "    <tr>\n",
       "      <th>2</th>\n",
       "      <td>2</td>\n",
       "      <td>[12, 28, 878]</td>\n",
       "      <td>10138</td>\n",
       "      <td>en</td>\n",
       "      <td>Iron Man 2</td>\n",
       "      <td>28.515</td>\n",
       "      <td>2010-05-07</td>\n",
       "      <td>Iron Man 2</td>\n",
       "      <td>6.8</td>\n",
       "      <td>12368</td>\n",
       "    </tr>\n",
       "  </tbody>\n",
       "</table>\n",
       "</div>"
      ],
      "text/plain": [
       "   Unnamed: 0            genre_ids     id original_language  \\\n",
       "0           0      [12, 14, 10751]  12444                en   \n",
       "1           1  [14, 12, 16, 10751]  10191                en   \n",
       "2           2        [12, 28, 878]  10138                en   \n",
       "\n",
       "                                 original_title  popularity release_date  \\\n",
       "0  Harry Potter and the Deathly Hallows: Part 1      33.533   2010-11-19   \n",
       "1                      How to Train Your Dragon      28.734   2010-03-26   \n",
       "2                                    Iron Man 2      28.515   2010-05-07   \n",
       "\n",
       "                                          title  vote_average  vote_count  \n",
       "0  Harry Potter and the Deathly Hallows: Part 1           7.7       10788  \n",
       "1                      How to Train Your Dragon           7.7        7610  \n",
       "2                                    Iron Man 2           6.8       12368  "
      ]
     },
     "execution_count": 5,
     "metadata": {},
     "output_type": "execute_result"
    }
   ],
   "source": [
    "#removing unnamed as the index\n",
    "tmdb_movies.reset_index\n",
    "tmdb_movies.head(3)"
   ]
  },
  {
   "cell_type": "code",
   "execution_count": 6,
   "metadata": {},
   "outputs": [],
   "source": [
    "#drop columns i don't need\n",
    "tmdb_movies = tmdb_movies.drop(['genre_ids', 'id','title','Unnamed: 0'],axis = 1)"
   ]
  },
  {
   "cell_type": "code",
   "execution_count": 7,
   "metadata": {},
   "outputs": [
    {
     "data": {
      "text/plain": [
       "Index(['original_language', 'original_title', 'popularity', 'release_date',\n",
       "       'vote_average', 'vote_count'],\n",
       "      dtype='object')"
      ]
     },
     "execution_count": 7,
     "metadata": {},
     "output_type": "execute_result"
    }
   ],
   "source": [
    "tmdb_movies.columns"
   ]
  },
  {
   "cell_type": "markdown",
   "metadata": {},
   "source": [
    "## CLEANING THE TITLE BASICS FILE"
   ]
  },
  {
   "cell_type": "code",
   "execution_count": 8,
   "metadata": {},
   "outputs": [
    {
     "data": {
      "text/html": [
       "<div>\n",
       "<style scoped>\n",
       "    .dataframe tbody tr th:only-of-type {\n",
       "        vertical-align: middle;\n",
       "    }\n",
       "\n",
       "    .dataframe tbody tr th {\n",
       "        vertical-align: top;\n",
       "    }\n",
       "\n",
       "    .dataframe thead th {\n",
       "        text-align: right;\n",
       "    }\n",
       "</style>\n",
       "<table border=\"1\" class=\"dataframe\">\n",
       "  <thead>\n",
       "    <tr style=\"text-align: right;\">\n",
       "      <th></th>\n",
       "      <th>tconst</th>\n",
       "      <th>primary_title</th>\n",
       "      <th>original_title</th>\n",
       "      <th>start_year</th>\n",
       "      <th>runtime_minutes</th>\n",
       "      <th>genres</th>\n",
       "    </tr>\n",
       "  </thead>\n",
       "  <tbody>\n",
       "    <tr>\n",
       "      <th>0</th>\n",
       "      <td>tt0063540</td>\n",
       "      <td>Sunghursh</td>\n",
       "      <td>Sunghursh</td>\n",
       "      <td>2013</td>\n",
       "      <td>175.0</td>\n",
       "      <td>Action,Crime,Drama</td>\n",
       "    </tr>\n",
       "    <tr>\n",
       "      <th>1</th>\n",
       "      <td>tt0066787</td>\n",
       "      <td>One Day Before the Rainy Season</td>\n",
       "      <td>Ashad Ka Ek Din</td>\n",
       "      <td>2019</td>\n",
       "      <td>114.0</td>\n",
       "      <td>Biography,Drama</td>\n",
       "    </tr>\n",
       "    <tr>\n",
       "      <th>2</th>\n",
       "      <td>tt0069049</td>\n",
       "      <td>The Other Side of the Wind</td>\n",
       "      <td>The Other Side of the Wind</td>\n",
       "      <td>2018</td>\n",
       "      <td>122.0</td>\n",
       "      <td>Drama</td>\n",
       "    </tr>\n",
       "  </tbody>\n",
       "</table>\n",
       "</div>"
      ],
      "text/plain": [
       "      tconst                    primary_title              original_title  \\\n",
       "0  tt0063540                        Sunghursh                   Sunghursh   \n",
       "1  tt0066787  One Day Before the Rainy Season             Ashad Ka Ek Din   \n",
       "2  tt0069049       The Other Side of the Wind  The Other Side of the Wind   \n",
       "\n",
       "   start_year  runtime_minutes              genres  \n",
       "0        2013            175.0  Action,Crime,Drama  \n",
       "1        2019            114.0     Biography,Drama  \n",
       "2        2018            122.0               Drama  "
      ]
     },
     "execution_count": 8,
     "metadata": {},
     "output_type": "execute_result"
    }
   ],
   "source": [
    "# read the title-ratings file to have an idea of what its contents are\n",
    "movie_information = pd.read_csv('ZippedData/title.basics.csv')\n",
    "movie_information.head(3)"
   ]
  },
  {
   "cell_type": "code",
   "execution_count": 9,
   "metadata": {},
   "outputs": [
    {
     "name": "stdout",
     "output_type": "stream",
     "text": [
      "False    136071\n",
      "True      10073\n",
      "Name: primary_title, dtype: int64\n",
      "False    137774\n",
      "True       8370\n",
      "Name: original_title, dtype: int64\n"
     ]
    }
   ],
   "source": [
    "#checking for dublicate movie titles\n",
    "\n",
    "duplicates = movie_information['primary_title'].duplicated().value_counts()\n",
    "print(duplicates)\n",
    "duplicates1 = movie_information['original_title'].duplicated().value_counts()\n",
    "print(duplicates1)"
   ]
  },
  {
   "cell_type": "code",
   "execution_count": 10,
   "metadata": {},
   "outputs": [],
   "source": [
    "# drop duplicates\n",
    "movie_information.drop_duplicates(subset = 'original_title', keep = 'first', inplace = True)\n",
    "movie_information.drop_duplicates(subset = 'primary_title',keep = 'first',inplace = True)\n",
    "\n",
    "#assert duplicates have been dropped\n",
    "duplicates = movie_information['primary_title'].duplicated().value_counts() == 0\n",
    "duplicates1 = movie_information['original_title'].duplicated().value_counts() == 0"
   ]
  },
  {
   "cell_type": "code",
   "execution_count": 11,
   "metadata": {
    "scrolled": false
   },
   "outputs": [
    {
     "data": {
      "text/plain": [
       "tconst              0.00\n",
       "primary_title       0.00\n",
       "original_title      0.00\n",
       "start_year          0.00\n",
       "runtime_minutes    21.65\n",
       "genres              3.56\n",
       "dtype: float64"
      ]
     },
     "execution_count": 11,
     "metadata": {},
     "output_type": "execute_result"
    }
   ],
   "source": [
    "# find the percentage of null values in this data frame\n",
    "(movie_information.isnull().sum()/len(movie_information.index)*100).round(2)"
   ]
  },
  {
   "cell_type": "markdown",
   "metadata": {},
   "source": [
    "***The runtime minutes column has a relativley high percentage of missing data. because i won't be using this column in any of my analysis i'm going to drop it from my data frame***"
   ]
  },
  {
   "cell_type": "code",
   "execution_count": 12,
   "metadata": {},
   "outputs": [
    {
     "data": {
      "text/plain": [
       "Index(['tconst', 'primary_title', 'original_title', 'start_year', 'genres'], dtype='object')"
      ]
     },
     "execution_count": 12,
     "metadata": {},
     "output_type": "execute_result"
    }
   ],
   "source": [
    "movie_information.drop('runtime_minutes',axis = 1, inplace = True)\n",
    "\n",
    "#assert runtime_minutes has been dropped\n",
    "movie_information.columns"
   ]
  },
  {
   "cell_type": "markdown",
   "metadata": {},
   "source": [
    "***The genre column has  3.56% of null values, which is relatively high. In this case we can fill the values with the mode genre***"
   ]
  },
  {
   "cell_type": "code",
   "execution_count": 13,
   "metadata": {},
   "outputs": [],
   "source": [
    "# find mode\n",
    "mode = movie_information['genres'].mode()[0]\n",
    "\n",
    "# replace null values with mode\n",
    "movie_information['genres'].fillna(mode,inplace = True)\n",
    "\n",
    "#assert there are no null values\n",
    "assert movie_information['genres'].isnull().sum() == 0"
   ]
  },
  {
   "cell_type": "markdown",
   "metadata": {},
   "source": [
    "#### From our observation alot of movies have more that one genre. For easier observation we'll keep only the first  main genre assigned per movie and eliminate the sub-genres"
   ]
  },
  {
   "cell_type": "code",
   "execution_count": 14,
   "metadata": {},
   "outputs": [],
   "source": [
    "# splitting the genres and only keeping the first genre\n",
    "movie_information['genres'] = movie_information['genres'].apply(lambda x: x.split(',')[0])"
   ]
  },
  {
   "cell_type": "code",
   "execution_count": 15,
   "metadata": {},
   "outputs": [
    {
     "data": {
      "text/plain": [
       "27"
      ]
     },
     "execution_count": 15,
     "metadata": {},
     "output_type": "execute_result"
    }
   ],
   "source": [
    "# assert only one genre is left per movie\n",
    "len(movie_information['genres'].unique())"
   ]
  },
  {
   "cell_type": "code",
   "execution_count": 16,
   "metadata": {},
   "outputs": [
    {
     "data": {
      "text/html": [
       "<div>\n",
       "<style scoped>\n",
       "    .dataframe tbody tr th:only-of-type {\n",
       "        vertical-align: middle;\n",
       "    }\n",
       "\n",
       "    .dataframe tbody tr th {\n",
       "        vertical-align: top;\n",
       "    }\n",
       "\n",
       "    .dataframe thead th {\n",
       "        text-align: right;\n",
       "    }\n",
       "</style>\n",
       "<table border=\"1\" class=\"dataframe\">\n",
       "  <thead>\n",
       "    <tr style=\"text-align: right;\">\n",
       "      <th></th>\n",
       "      <th>tconst</th>\n",
       "      <th>primary_title</th>\n",
       "      <th>original_title</th>\n",
       "      <th>start_year</th>\n",
       "      <th>genres</th>\n",
       "    </tr>\n",
       "  </thead>\n",
       "  <tbody>\n",
       "    <tr>\n",
       "      <th>106717</th>\n",
       "      <td>tt6247120</td>\n",
       "      <td>El Vengador Del Mojado</td>\n",
       "      <td>El Vengador Del Mojado</td>\n",
       "      <td>2016</td>\n",
       "      <td>Crime</td>\n",
       "    </tr>\n",
       "    <tr>\n",
       "      <th>68264</th>\n",
       "      <td>tt3884528</td>\n",
       "      <td>Batkid Begins</td>\n",
       "      <td>Batkid Begins</td>\n",
       "      <td>2015</td>\n",
       "      <td>Biography</td>\n",
       "    </tr>\n",
       "    <tr>\n",
       "      <th>41771</th>\n",
       "      <td>tt2508618</td>\n",
       "      <td>Entrei em Pânico ao Saber o que Vocês Fizeram ...</td>\n",
       "      <td>Entrei em Pânico ao Saber o que Vocês Fizeram ...</td>\n",
       "      <td>2011</td>\n",
       "      <td>Comedy</td>\n",
       "    </tr>\n",
       "  </tbody>\n",
       "</table>\n",
       "</div>"
      ],
      "text/plain": [
       "           tconst                                      primary_title  \\\n",
       "106717  tt6247120                             El Vengador Del Mojado   \n",
       "68264   tt3884528                                      Batkid Begins   \n",
       "41771   tt2508618  Entrei em Pânico ao Saber o que Vocês Fizeram ...   \n",
       "\n",
       "                                           original_title  start_year  \\\n",
       "106717                             El Vengador Del Mojado        2016   \n",
       "68264                                       Batkid Begins        2015   \n",
       "41771   Entrei em Pânico ao Saber o que Vocês Fizeram ...        2011   \n",
       "\n",
       "           genres  \n",
       "106717      Crime  \n",
       "68264   Biography  \n",
       "41771      Comedy  "
      ]
     },
     "execution_count": 16,
     "metadata": {},
     "output_type": "execute_result"
    }
   ],
   "source": [
    "movie_information.sample(3)"
   ]
  },
  {
   "cell_type": "markdown",
   "metadata": {},
   "source": [
    "## CLEANING THE TN.MOVIE BUDGETS FILE"
   ]
  },
  {
   "cell_type": "code",
   "execution_count": 17,
   "metadata": {},
   "outputs": [],
   "source": [
    "# Load the data\n",
    "movie_budgets = pd.read_csv('ZippedData/tn.movie_budgets.csv')"
   ]
  },
  {
   "cell_type": "code",
   "execution_count": 18,
   "metadata": {},
   "outputs": [
    {
     "name": "stdout",
     "output_type": "stream",
     "text": [
      "<class 'pandas.core.frame.DataFrame'>\n",
      "RangeIndex: 5782 entries, 0 to 5781\n",
      "Data columns (total 6 columns):\n",
      " #   Column             Non-Null Count  Dtype \n",
      "---  ------             --------------  ----- \n",
      " 0   id                 5782 non-null   int64 \n",
      " 1   release_date       5782 non-null   object\n",
      " 2   movie              5782 non-null   object\n",
      " 3   production_budget  5782 non-null   object\n",
      " 4   domestic_gross     5782 non-null   object\n",
      " 5   worldwide_gross    5782 non-null   object\n",
      "dtypes: int64(1), object(5)\n",
      "memory usage: 271.2+ KB\n"
     ]
    }
   ],
   "source": [
    "# Getting general information of the data set\n",
    "movie_budgets.info()"
   ]
  },
  {
   "cell_type": "code",
   "execution_count": 19,
   "metadata": {},
   "outputs": [
    {
     "data": {
      "text/html": [
       "<div>\n",
       "<style scoped>\n",
       "    .dataframe tbody tr th:only-of-type {\n",
       "        vertical-align: middle;\n",
       "    }\n",
       "\n",
       "    .dataframe tbody tr th {\n",
       "        vertical-align: top;\n",
       "    }\n",
       "\n",
       "    .dataframe thead th {\n",
       "        text-align: right;\n",
       "    }\n",
       "</style>\n",
       "<table border=\"1\" class=\"dataframe\">\n",
       "  <thead>\n",
       "    <tr style=\"text-align: right;\">\n",
       "      <th></th>\n",
       "      <th>id</th>\n",
       "      <th>release_date</th>\n",
       "      <th>movie</th>\n",
       "      <th>production_budget</th>\n",
       "      <th>domestic_gross</th>\n",
       "      <th>worldwide_gross</th>\n",
       "    </tr>\n",
       "  </thead>\n",
       "  <tbody>\n",
       "    <tr>\n",
       "      <th>0</th>\n",
       "      <td>1</td>\n",
       "      <td>Dec 18, 2009</td>\n",
       "      <td>Avatar</td>\n",
       "      <td>$425,000,000</td>\n",
       "      <td>$760,507,625</td>\n",
       "      <td>$2,776,345,279</td>\n",
       "    </tr>\n",
       "    <tr>\n",
       "      <th>1</th>\n",
       "      <td>2</td>\n",
       "      <td>May 20, 2011</td>\n",
       "      <td>Pirates of the Caribbean: On Stranger Tides</td>\n",
       "      <td>$410,600,000</td>\n",
       "      <td>$241,063,875</td>\n",
       "      <td>$1,045,663,875</td>\n",
       "    </tr>\n",
       "    <tr>\n",
       "      <th>2</th>\n",
       "      <td>3</td>\n",
       "      <td>Jun 7, 2019</td>\n",
       "      <td>Dark Phoenix</td>\n",
       "      <td>$350,000,000</td>\n",
       "      <td>$42,762,350</td>\n",
       "      <td>$149,762,350</td>\n",
       "    </tr>\n",
       "  </tbody>\n",
       "</table>\n",
       "</div>"
      ],
      "text/plain": [
       "   id  release_date                                        movie  \\\n",
       "0   1  Dec 18, 2009                                       Avatar   \n",
       "1   2  May 20, 2011  Pirates of the Caribbean: On Stranger Tides   \n",
       "2   3   Jun 7, 2019                                 Dark Phoenix   \n",
       "\n",
       "  production_budget domestic_gross worldwide_gross  \n",
       "0      $425,000,000   $760,507,625  $2,776,345,279  \n",
       "1      $410,600,000   $241,063,875  $1,045,663,875  \n",
       "2      $350,000,000    $42,762,350    $149,762,350  "
      ]
     },
     "execution_count": 19,
     "metadata": {},
     "output_type": "execute_result"
    }
   ],
   "source": [
    "movie_budgets.head(3)"
   ]
  },
  {
   "cell_type": "code",
   "execution_count": 20,
   "metadata": {},
   "outputs": [],
   "source": [
    "assert movie_budgets.isnull().sum().any()==0\n",
    "# There are no null values"
   ]
  },
  {
   "cell_type": "markdown",
   "metadata": {},
   "source": [
    "**The production_budget, domestic_gross,worldwide_gross are all in object type notation. Being numerical values, we need to convert them to floats and drop any special characters they might have**"
   ]
  },
  {
   "cell_type": "code",
   "execution_count": 21,
   "metadata": {},
   "outputs": [],
   "source": [
    "# removing special characters and typcasting it to floats\n",
    "movie_budgets['domestic_gross'] = movie_budgets['domestic_gross'].replace('[\\$,]', '', regex=True).astype(float)\n",
    "movie_budgets['worldwide_gross'] = movie_budgets['worldwide_gross'].replace('[\\$,]', '', regex=True).astype(float)\n",
    "movie_budgets['production_budget'] = movie_budgets['production_budget'].replace('[\\$,]', '', regex=True).astype(float)"
   ]
  },
  {
   "cell_type": "markdown",
   "metadata": {},
   "source": [
    "***check if they are null values that have been converted to float data types***"
   ]
  },
  {
   "cell_type": "code",
   "execution_count": 22,
   "metadata": {},
   "outputs": [
    {
     "name": "stdout",
     "output_type": "stream",
     "text": [
      "9.48\n",
      "6.35\n",
      "0.0\n"
     ]
    }
   ],
   "source": [
    "num = ((movie_budgets['domestic_gross'] == 0.0).sum()/len(movie_budgets['domestic_gross'] == 0.0) * 100).round(2)\n",
    "print(num)\n",
    "\n",
    "num2 = ((movie_budgets['worldwide_gross'] == 0.0).sum()/len(movie_budgets['worldwide_gross'] == 0.0) * 100).round(2)\n",
    "print(num2)\n",
    "\n",
    "num3 = ((movie_budgets['production_budget'] == 0.0).sum()/len(movie_budgets['production_budget'] == 0.0) * 100).round(2)\n",
    "print(num3)\n",
    "\n",
    "\n",
    "# there is a % of null values mascarading as floats but since we will only be working with the top grossing movies\n",
    "#this will not really affect our analysis"
   ]
  },
  {
   "cell_type": "markdown",
   "metadata": {},
   "source": [
    "**Since one of the questions we are trying to answer is on the profitability of the movies,we need to create a new column called profitability in the movie_budgets data frame**"
   ]
  },
  {
   "cell_type": "code",
   "execution_count": 23,
   "metadata": {},
   "outputs": [],
   "source": [
    "#find proitability\n",
    "movie_budgets['total_gross'] = movie_budgets['domestic_gross'] + movie_budgets['worldwide_gross']\n",
    "movie_budgets['profitability'] = movie_budgets['total_gross'] - movie_budgets['production_budget']"
   ]
  },
  {
   "cell_type": "markdown",
   "metadata": {},
   "source": [
    "**Lets round of our values to the nearest million**"
   ]
  },
  {
   "cell_type": "code",
   "execution_count": 24,
   "metadata": {},
   "outputs": [],
   "source": [
    "movie_budgets['domestic_gross'] = movie_budgets['domestic_gross']/10000000\n",
    "movie_budgets['production_budget'] = movie_budgets['production_budget']/10000000\n",
    "movie_budgets['worldwide_gross'] = movie_budgets['worldwide_gross']/10000000\n",
    "movie_budgets['profitability'] = movie_budgets['profitability']/10000000\n",
    "movie_budgets['total_gross'] = movie_budgets['total_gross']/10000000"
   ]
  },
  {
   "cell_type": "code",
   "execution_count": 25,
   "metadata": {},
   "outputs": [
    {
     "data": {
      "text/html": [
       "<div>\n",
       "<style scoped>\n",
       "    .dataframe tbody tr th:only-of-type {\n",
       "        vertical-align: middle;\n",
       "    }\n",
       "\n",
       "    .dataframe tbody tr th {\n",
       "        vertical-align: top;\n",
       "    }\n",
       "\n",
       "    .dataframe thead th {\n",
       "        text-align: right;\n",
       "    }\n",
       "</style>\n",
       "<table border=\"1\" class=\"dataframe\">\n",
       "  <thead>\n",
       "    <tr style=\"text-align: right;\">\n",
       "      <th></th>\n",
       "      <th>id</th>\n",
       "      <th>release_date</th>\n",
       "      <th>movie</th>\n",
       "      <th>production_budget</th>\n",
       "      <th>domestic_gross</th>\n",
       "      <th>worldwide_gross</th>\n",
       "      <th>total_gross</th>\n",
       "      <th>profitability</th>\n",
       "    </tr>\n",
       "  </thead>\n",
       "  <tbody>\n",
       "    <tr>\n",
       "      <th>0</th>\n",
       "      <td>1</td>\n",
       "      <td>Dec 18, 2009</td>\n",
       "      <td>Avatar</td>\n",
       "      <td>42.50</td>\n",
       "      <td>76.050763</td>\n",
       "      <td>277.634528</td>\n",
       "      <td>353.685290</td>\n",
       "      <td>311.185290</td>\n",
       "    </tr>\n",
       "    <tr>\n",
       "      <th>1</th>\n",
       "      <td>2</td>\n",
       "      <td>May 20, 2011</td>\n",
       "      <td>Pirates of the Caribbean: On Stranger Tides</td>\n",
       "      <td>41.06</td>\n",
       "      <td>24.106388</td>\n",
       "      <td>104.566388</td>\n",
       "      <td>128.672775</td>\n",
       "      <td>87.612775</td>\n",
       "    </tr>\n",
       "    <tr>\n",
       "      <th>2</th>\n",
       "      <td>3</td>\n",
       "      <td>Jun 7, 2019</td>\n",
       "      <td>Dark Phoenix</td>\n",
       "      <td>35.00</td>\n",
       "      <td>4.276235</td>\n",
       "      <td>14.976235</td>\n",
       "      <td>19.252470</td>\n",
       "      <td>-15.747530</td>\n",
       "    </tr>\n",
       "  </tbody>\n",
       "</table>\n",
       "</div>"
      ],
      "text/plain": [
       "   id  release_date                                        movie  \\\n",
       "0   1  Dec 18, 2009                                       Avatar   \n",
       "1   2  May 20, 2011  Pirates of the Caribbean: On Stranger Tides   \n",
       "2   3   Jun 7, 2019                                 Dark Phoenix   \n",
       "\n",
       "   production_budget  domestic_gross  worldwide_gross  total_gross  \\\n",
       "0              42.50       76.050763       277.634528   353.685290   \n",
       "1              41.06       24.106388       104.566388   128.672775   \n",
       "2              35.00        4.276235        14.976235    19.252470   \n",
       "\n",
       "   profitability  \n",
       "0     311.185290  \n",
       "1      87.612775  \n",
       "2     -15.747530  "
      ]
     },
     "execution_count": 25,
     "metadata": {},
     "output_type": "execute_result"
    }
   ],
   "source": [
    "movie_budgets.head(3)"
   ]
  },
  {
   "cell_type": "code",
   "execution_count": 26,
   "metadata": {},
   "outputs": [
    {
     "data": {
      "text/plain": [
       "Index(['release_date', 'movie', 'production_budget', 'domestic_gross',\n",
       "       'worldwide_gross', 'total_gross', 'profitability'],\n",
       "      dtype='object')"
      ]
     },
     "execution_count": 26,
     "metadata": {},
     "output_type": "execute_result"
    }
   ],
   "source": [
    "# removed the id column because we dont need it\n",
    "movie_budgets = movie_budgets.drop('id',axis = 1)\n",
    "movie_budgets.columns"
   ]
  },
  {
   "cell_type": "markdown",
   "metadata": {},
   "source": [
    "## CONVERTING MY DATA TO SQL TABLES"
   ]
  },
  {
   "cell_type": "code",
   "execution_count": 27,
   "metadata": {},
   "outputs": [],
   "source": [
    "# create a database connection\n",
    "import sqlite3\n",
    "conn = sqlite3.connect('film_analysis_information.db')\n",
    "cursor = conn.cursor()"
   ]
  },
  {
   "cell_type": "markdown",
   "metadata": {},
   "source": [
    "***Creating the tables***"
   ]
  },
  {
   "cell_type": "code",
   "execution_count": null,
   "metadata": {},
   "outputs": [],
   "source": [
    "# this is the film-info table in which we will load information from the movie_information data frame\n",
    "\n",
    "query1 = \"\"\"\n",
    "    CREATE TABLE film_info (\n",
    "        tconst TEXT,\n",
    "        primary_title TEXT,\n",
    "        original_title TEXT,\n",
    "        start_year INTEGER,\n",
    "        runtime_minutes REAL,\n",
    "        genres TEXT\n",
    "    )\n",
    "\"\"\"\n",
    "cursor.execute(query1)\n",
    "conn.commit()"
   ]
  },
  {
   "cell_type": "code",
   "execution_count": null,
   "metadata": {},
   "outputs": [],
   "source": [
    "#this is the film budgets table in which we will load the movie_budgets information\n",
    "\n",
    "query3 = \"\"\"\n",
    "    CREATE TABLE film_budgets (\n",
    "        movie STRING,\n",
    "        release_date TEXT\n",
    "        production_budget FLOAT,\n",
    "        domestic_gross FLOAT,\n",
    "        worldwide_gross FLOAT\n",
    "    )\n",
    "\"\"\"\n",
    "cursor.execute(query3)\n",
    "conn.commit()"
   ]
  },
  {
   "cell_type": "code",
   "execution_count": null,
   "metadata": {},
   "outputs": [],
   "source": [
    "# This is the tmdb_ratings table in which we will load information from the tmdb_movies data frame\n",
    "\n",
    "query4 = \"\"\"CREATE TABLE tmdb_ratings (\n",
    "            original_language STRING,\n",
    "            original_title STRING,\n",
    "            release_date DATE,\n",
    "            popularity FLOAT, \n",
    "            vote_average FLOAT,\n",
    "            vote_count FLOAT)\"\"\"\n",
    "conn.execute(query4)"
   ]
  },
  {
   "cell_type": "code",
   "execution_count": null,
   "metadata": {},
   "outputs": [],
   "source": [
    "#moving data from the data frames to the sql tables\n",
    "\n",
    "movie_information.to_sql('film_info', conn, if_exists='replace', index=False)\n",
    "movie_budgets.to_sql('film_budgets', conn, if_exists='replace', index=False)\n",
    "tmdb_movies.to_sql('tmdb_ratings',conn,if_exists = 'replace', index = False)"
   ]
  },
  {
   "cell_type": "markdown",
   "metadata": {},
   "source": [
    "***CONFIRM THAT THE TABLES HAVE BEEN CREATED AND ALL THE INFORMATION HAS BEEN PROPERLY MOVED BY CREATING A QUERY AND COMBINING COLUMNS FROM EACH TABLE THAT HAS BEEN CREATED***\n",
    "\n",
    "\n"
   ]
  },
  {
   "cell_type": "code",
   "execution_count": null,
   "metadata": {},
   "outputs": [],
   "source": [
    "query = \"\"\"\n",
    "SELECT i.tconst, i.primary_title, i.original_title, i.start_year, i.genres, t.popularity\n",
    "FROM film_info i\n",
    "JOIN tmdb_ratings t ON t.original_title = i.primary_title\n",
    "LIMIT 2\n",
    "\n",
    "\"\"\"\n",
    "\n",
    "joined_data = pd.read_sql(query, conn)\n",
    "joined_data"
   ]
  },
  {
   "cell_type": "markdown",
   "metadata": {},
   "source": [
    "## BUSINESS PROBLEM SOLUTIONS"
   ]
  },
  {
   "cell_type": "markdown",
   "metadata": {},
   "source": [
    "### ANALYSIS BASED ON GENRES"
   ]
  },
  {
   "cell_type": "markdown",
   "metadata": {},
   "source": [
    "#### profitability of movies based on genres."
   ]
  },
  {
   "cell_type": "code",
   "execution_count": 28,
   "metadata": {},
   "outputs": [
    {
     "data": {
      "text/html": [
       "<div>\n",
       "<style scoped>\n",
       "    .dataframe tbody tr th:only-of-type {\n",
       "        vertical-align: middle;\n",
       "    }\n",
       "\n",
       "    .dataframe tbody tr th {\n",
       "        vertical-align: top;\n",
       "    }\n",
       "\n",
       "    .dataframe thead th {\n",
       "        text-align: right;\n",
       "    }\n",
       "</style>\n",
       "<table border=\"1\" class=\"dataframe\">\n",
       "  <thead>\n",
       "    <tr style=\"text-align: right;\">\n",
       "      <th></th>\n",
       "      <th>genres</th>\n",
       "      <th>average_profitability</th>\n",
       "    </tr>\n",
       "  </thead>\n",
       "  <tbody>\n",
       "    <tr>\n",
       "      <th>0</th>\n",
       "      <td>Adventure</td>\n",
       "      <td>261.445084</td>\n",
       "    </tr>\n",
       "    <tr>\n",
       "      <th>1</th>\n",
       "      <td>Animation</td>\n",
       "      <td>235.529715</td>\n",
       "    </tr>\n",
       "    <tr>\n",
       "      <th>2</th>\n",
       "      <td>Musical</td>\n",
       "      <td>230.091787</td>\n",
       "    </tr>\n",
       "    <tr>\n",
       "      <th>3</th>\n",
       "      <td>Action</td>\n",
       "      <td>211.896133</td>\n",
       "    </tr>\n",
       "    <tr>\n",
       "      <th>4</th>\n",
       "      <td>War</td>\n",
       "      <td>153.884251</td>\n",
       "    </tr>\n",
       "    <tr>\n",
       "      <th>5</th>\n",
       "      <td>Mystery</td>\n",
       "      <td>144.613774</td>\n",
       "    </tr>\n",
       "    <tr>\n",
       "      <th>6</th>\n",
       "      <td>Sci-Fi</td>\n",
       "      <td>107.969617</td>\n",
       "    </tr>\n",
       "    <tr>\n",
       "      <th>7</th>\n",
       "      <td>Horror</td>\n",
       "      <td>89.188670</td>\n",
       "    </tr>\n",
       "    <tr>\n",
       "      <th>8</th>\n",
       "      <td>Biography</td>\n",
       "      <td>73.648806</td>\n",
       "    </tr>\n",
       "    <tr>\n",
       "      <th>9</th>\n",
       "      <td>Comedy</td>\n",
       "      <td>69.531625</td>\n",
       "    </tr>\n",
       "  </tbody>\n",
       "</table>\n",
       "</div>"
      ],
      "text/plain": [
       "      genres  average_profitability\n",
       "0  Adventure             261.445084\n",
       "1  Animation             235.529715\n",
       "2    Musical             230.091787\n",
       "3     Action             211.896133\n",
       "4        War             153.884251\n",
       "5    Mystery             144.613774\n",
       "6     Sci-Fi             107.969617\n",
       "7     Horror              89.188670\n",
       "8  Biography              73.648806\n",
       "9     Comedy              69.531625"
      ]
     },
     "execution_count": 28,
     "metadata": {},
     "output_type": "execute_result"
    }
   ],
   "source": [
    "# query that is going to show us the top-ten most profitable movie genres\n",
    "\n",
    "top_genres = \"\"\"SELECT i.genres, AVG(b.profitability)   AS average_profitability\n",
    "FROM film_budgets AS b\n",
    "JOIN film_info AS i ON i.primary_title = b.movie\n",
    "GROUP BY i.genres\n",
    "ORDER BY average_profitability DESC\n",
    "LIMIT 10;\"\"\"\n",
    "pd.read_sql(top_genres,conn)"
   ]
  },
  {
   "cell_type": "markdown",
   "metadata": {},
   "source": [
    "**With an average profit of 69.53 million dollars, the romance genre ranked tenth among movie genres.With a profit of 261.45 million dollars, the adventure genre was the most profitable. Movies in the above genres have a greater chance of making a lot of profit**\n",
    "\n",
    "\n",
    "\n",
    "\n",
    "\n"
   ]
  },
  {
   "cell_type": "markdown",
   "metadata": {},
   "source": [
    "#### Visual presentation of the top ten most profitable movie genres"
   ]
  },
  {
   "cell_type": "code",
   "execution_count": 29,
   "metadata": {},
   "outputs": [
    {
     "data": {
      "image/png": "[encoded data removed]",
      "text/plain": [
       "<Figure size 1080x360 with 1 Axes>"
      ]
     },
     "metadata": {
      "needs_background": "light"
     },
     "output_type": "display_data"
    }
   ],
   "source": [
    "# using a barplot to represent the profitability of movies  by genres\n",
    "\n",
    "\n",
    "data2 = pd.read_sql(top_genres,conn) #load data\n",
    "\n",
    "plt.figure(figsize=(15, 5)) #set figure size\n",
    "\n",
    "plt.ylim(50, 300) #set y axis to start from 50 million$\n",
    "\n",
    "ax = sns.barplot(x='genres', y='average_profitability', data=data2) #set values\n",
    "\n",
    "ax.set_title(\"Top 10 profitable genres\") #title\n",
    "\n",
    "plt.xticks(rotation = 90) # rotation of the genre names for easier readability\n",
    "plt.show()"
   ]
  },
  {
   "cell_type": "markdown",
   "metadata": {},
   "source": [
    "#### Popularity of movie based on genre"
   ]
  },
  {
   "cell_type": "code",
   "execution_count": 30,
   "metadata": {},
   "outputs": [
    {
     "data": {
      "text/html": [
       "<div>\n",
       "<style scoped>\n",
       "    .dataframe tbody tr th:only-of-type {\n",
       "        vertical-align: middle;\n",
       "    }\n",
       "\n",
       "    .dataframe tbody tr th {\n",
       "        vertical-align: top;\n",
       "    }\n",
       "\n",
       "    .dataframe thead th {\n",
       "        text-align: right;\n",
       "    }\n",
       "</style>\n",
       "<table border=\"1\" class=\"dataframe\">\n",
       "  <thead>\n",
       "    <tr style=\"text-align: right;\">\n",
       "      <th></th>\n",
       "      <th>genres</th>\n",
       "      <th>average_popularity</th>\n",
       "    </tr>\n",
       "  </thead>\n",
       "  <tbody>\n",
       "    <tr>\n",
       "      <th>0</th>\n",
       "      <td>Action</td>\n",
       "      <td>7.288281</td>\n",
       "    </tr>\n",
       "    <tr>\n",
       "      <th>1</th>\n",
       "      <td>Adventure</td>\n",
       "      <td>6.256002</td>\n",
       "    </tr>\n",
       "    <tr>\n",
       "      <th>2</th>\n",
       "      <td>Crime</td>\n",
       "      <td>4.115594</td>\n",
       "    </tr>\n",
       "    <tr>\n",
       "      <th>3</th>\n",
       "      <td>Biography</td>\n",
       "      <td>3.887870</td>\n",
       "    </tr>\n",
       "    <tr>\n",
       "      <th>4</th>\n",
       "      <td>Comedy</td>\n",
       "      <td>3.616680</td>\n",
       "    </tr>\n",
       "    <tr>\n",
       "      <th>5</th>\n",
       "      <td>Fantasy</td>\n",
       "      <td>3.562889</td>\n",
       "    </tr>\n",
       "    <tr>\n",
       "      <th>6</th>\n",
       "      <td>Mystery</td>\n",
       "      <td>3.501395</td>\n",
       "    </tr>\n",
       "    <tr>\n",
       "      <th>7</th>\n",
       "      <td>Drama</td>\n",
       "      <td>3.467522</td>\n",
       "    </tr>\n",
       "    <tr>\n",
       "      <th>8</th>\n",
       "      <td>Animation</td>\n",
       "      <td>3.405418</td>\n",
       "    </tr>\n",
       "    <tr>\n",
       "      <th>9</th>\n",
       "      <td>Romance</td>\n",
       "      <td>3.282500</td>\n",
       "    </tr>\n",
       "  </tbody>\n",
       "</table>\n",
       "</div>"
      ],
      "text/plain": [
       "      genres  average_popularity\n",
       "0     Action            7.288281\n",
       "1  Adventure            6.256002\n",
       "2      Crime            4.115594\n",
       "3  Biography            3.887870\n",
       "4     Comedy            3.616680\n",
       "5    Fantasy            3.562889\n",
       "6    Mystery            3.501395\n",
       "7      Drama            3.467522\n",
       "8  Animation            3.405418\n",
       "9    Romance            3.282500"
      ]
     },
     "execution_count": 30,
     "metadata": {},
     "output_type": "execute_result"
    }
   ],
   "source": [
    "# query that is going to show us the top ten most popular genres\n",
    "\n",
    "top_10_popular_genres = \"\"\"SELECT i.genres, AVG(t.popularity) AS average_popularity\n",
    "                        FROM tmdb_ratings AS t\n",
    "                        JOIN film_info AS i ON i.primary_title = t.original_title\n",
    "                        GROUP BY i.genres\n",
    "                        ORDER BY average_popularity DESC\n",
    "                        LIMIT 10\"\"\"\n",
    "pd.read_sql(top_10_popular_genres, conn)"
   ]
  },
  {
   "cell_type": "markdown",
   "metadata": {},
   "source": [
    "**With an average popularity rating of 7.29, the action genre was the most popular, and the romance genre ranked tenth with an average popularity rating of 3.29. In this case, movies produced within the above genres are more likely to capture the audience's attention**\n",
    "\n",
    "\n",
    "\n",
    "\n",
    "\n"
   ]
  },
  {
   "cell_type": "markdown",
   "metadata": {},
   "source": [
    "#### Visual representation of the topten most popular genres"
   ]
  },
  {
   "cell_type": "code",
   "execution_count": 31,
   "metadata": {},
   "outputs": [
    {
     "data": {
      "image/png": "[encoded data removed]",
      "text/plain": [
       "<Figure size 1080x360 with 1 Axes>"
      ]
     },
     "metadata": {
      "needs_background": "light"
     },
     "output_type": "display_data"
    }
   ],
   "source": [
    "data3 = pd.read_sql(top_10_popular_genres, conn) #load data\n",
    "\n",
    "plt.figure(figsize=(15, 5)) #set figure size\n",
    "\n",
    "plt.ylim(3.0, 8.0) #set y axis t start from a rating of 3.0\n",
    "\n",
    "sns.barplot(x='genres', y='average_popularity', data=data3) # set x and y values\n",
    "\n",
    "#lables\n",
    "plt.xlabel('Average Popularity')\n",
    "plt.ylabel('Genres')\n",
    "\n",
    "plt.title('Top 10 Popular Genres') #title names\n",
    "\n",
    "plt.xticks(rotation=90) #set genre names to 90 degree rotation for readability\n",
    "plt.show()"
   ]
  },
  {
   "cell_type": "markdown",
   "metadata": {},
   "source": [
    "### Popularity and profitability of movies based on genre"
   ]
  },
  {
   "cell_type": "markdown",
   "metadata": {},
   "source": [
    "#### Creating a data base with similar genres from profitability and popularity so that we can figure out which movies were both one of the most  profitable and most popular"
   ]
  },
  {
   "cell_type": "code",
   "execution_count": 32,
   "metadata": {},
   "outputs": [],
   "source": [
    "#creating the profitability data frame\n",
    "\n",
    "average_profitability = [280.058754, 275.816712, 235.053356, 225.879422, 177.784505, 139.226970, 76.175548, 73.992899, 72.444796, 55.037568]\n",
    "genres = ['Adventure', 'Animation', 'Sci-Fi', 'Action', 'Mystery', 'Romance', 'Biography', 'Comedy', 'Horror', 'Crime']\n",
    "\n",
    "data = {\n",
    "    'average_profitability': [280.058754, 275.816712, 235.053356, 225.879422, 177.784505,\n",
    "                               139.226970, 76.175548, 73.992899, 72.444796, 55.037568],\n",
    "    'genres': ['Adventure', 'Animation', 'Sci-Fi', 'Action', 'Mystery', 'Romance',\n",
    "               'Biography', 'Comedy', 'Horror', 'Crime']\n",
    "}\n",
    "\n",
    "genre_profitability = pd.DataFrame(data)"
   ]
  },
  {
   "cell_type": "code",
   "execution_count": 33,
   "metadata": {},
   "outputs": [],
   "source": [
    "#creating the popularity dataframe\n",
    "\n",
    "genres = ['Action', 'Adventure', 'Crime', 'Biography', 'Comedy', 'Fantasy', 'Mystery', 'Drama', 'Animation', 'Romance']\n",
    "average_popularity= [7.288281, 6.256002, 4.115594, 3.887870, 3.616680, 3.562889, 3.501395, 3.467522, 3.405418, 3.282500]\n",
    "\n",
    "data1 = {'genres': ['Action', 'Adventure', 'Crime', 'Biography', 'Comedy', 'Fantasy', 'Mystery', 'Drama', 'Animation', 'Romance'],\n",
    "    'average_popularity': [7.288281, 6.256002, 4.115594, 3.887870, 3.616680, 3.562889, 3.501395, 3.467522, 3.405418, 3.282500]}\n",
    "\n",
    "genre_popularity = pd.DataFrame(data1)"
   ]
  },
  {
   "cell_type": "code",
   "execution_count": 34,
   "metadata": {},
   "outputs": [
    {
     "data": {
      "text/html": [
       "<div>\n",
       "<style scoped>\n",
       "    .dataframe tbody tr th:only-of-type {\n",
       "        vertical-align: middle;\n",
       "    }\n",
       "\n",
       "    .dataframe tbody tr th {\n",
       "        vertical-align: top;\n",
       "    }\n",
       "\n",
       "    .dataframe thead th {\n",
       "        text-align: right;\n",
       "    }\n",
       "</style>\n",
       "<table border=\"1\" class=\"dataframe\">\n",
       "  <thead>\n",
       "    <tr style=\"text-align: right;\">\n",
       "      <th></th>\n",
       "      <th>average_profitability</th>\n",
       "      <th>genres</th>\n",
       "      <th>average_popularity</th>\n",
       "    </tr>\n",
       "  </thead>\n",
       "  <tbody>\n",
       "    <tr>\n",
       "      <th>0</th>\n",
       "      <td>280.058754</td>\n",
       "      <td>Adventure</td>\n",
       "      <td>6.256002</td>\n",
       "    </tr>\n",
       "    <tr>\n",
       "      <th>1</th>\n",
       "      <td>275.816712</td>\n",
       "      <td>Animation</td>\n",
       "      <td>3.405418</td>\n",
       "    </tr>\n",
       "    <tr>\n",
       "      <th>2</th>\n",
       "      <td>225.879422</td>\n",
       "      <td>Action</td>\n",
       "      <td>7.288281</td>\n",
       "    </tr>\n",
       "    <tr>\n",
       "      <th>3</th>\n",
       "      <td>177.784505</td>\n",
       "      <td>Mystery</td>\n",
       "      <td>3.501395</td>\n",
       "    </tr>\n",
       "    <tr>\n",
       "      <th>4</th>\n",
       "      <td>139.226970</td>\n",
       "      <td>Romance</td>\n",
       "      <td>3.282500</td>\n",
       "    </tr>\n",
       "    <tr>\n",
       "      <th>5</th>\n",
       "      <td>76.175548</td>\n",
       "      <td>Biography</td>\n",
       "      <td>3.887870</td>\n",
       "    </tr>\n",
       "    <tr>\n",
       "      <th>6</th>\n",
       "      <td>73.992899</td>\n",
       "      <td>Comedy</td>\n",
       "      <td>3.616680</td>\n",
       "    </tr>\n",
       "    <tr>\n",
       "      <th>7</th>\n",
       "      <td>55.037568</td>\n",
       "      <td>Crime</td>\n",
       "      <td>4.115594</td>\n",
       "    </tr>\n",
       "  </tbody>\n",
       "</table>\n",
       "</div>"
      ],
      "text/plain": [
       "   average_profitability     genres  average_popularity\n",
       "0             280.058754  Adventure            6.256002\n",
       "1             275.816712  Animation            3.405418\n",
       "2             225.879422     Action            7.288281\n",
       "3             177.784505    Mystery            3.501395\n",
       "4             139.226970    Romance            3.282500\n",
       "5              76.175548  Biography            3.887870\n",
       "6              73.992899     Comedy            3.616680\n",
       "7              55.037568      Crime            4.115594"
      ]
     },
     "execution_count": 34,
     "metadata": {},
     "output_type": "execute_result"
    }
   ],
   "source": [
    "#merging the databases on the genre column using an inner join so as to get genres that are both popular and profitable.\n",
    "\n",
    "genre_popularity_profitability= pd.merge(genre_profitability, genre_popularity, on='genres', how='inner')\n",
    "genre_popularity_profitability"
   ]
  },
  {
   "cell_type": "markdown",
   "metadata": {},
   "source": [
    "***From our results the above genres were both one of the most profitable and the most popular genres in the box office***\n",
    "\n",
    "\n",
    "\n",
    "\n"
   ]
  },
  {
   "cell_type": "markdown",
   "metadata": {},
   "source": [
    "#### Visual representation of the most profitable and most popular movie genres"
   ]
  },
  {
   "cell_type": "code",
   "execution_count": 35,
   "metadata": {},
   "outputs": [
    {
     "data": {
      "image/png": "[encoded data removed]",
      "text/plain": [
       "<Figure size 1080x360 with 2 Axes>"
      ]
     },
     "metadata": {
      "needs_background": "light"
     },
     "output_type": "display_data"
    }
   ],
   "source": [
    "fig, (gx1, gx2) = plt.subplots(1, 2, figsize=(15, 5)) # Create subplots with 1 row and 2 columns\n",
    "\n",
    "# Creating the profitability graph\n",
    "\n",
    "y1 = [280.058754, 275.816712, 225.879422, 177.784505, 139.226970, 76.175548, 73.992899, 55.037568]\n",
    "x1 = ['Adventure', 'Animation', 'Action', 'Mystery', 'Romance', 'Biography', 'Comedy', 'Crime']\n",
    "\n",
    "\n",
    "gx1.plot(x1, y1) #plotting the graph\n",
    "\n",
    "\n",
    "gx1.set_xlabel('Genres') # labeling the x and y axis \n",
    "gx1.set_ylabel('Profitability')\n",
    "\n",
    "\n",
    "gx1.set_title('Profitability of Movies Based on Genre') #giving the plot a title\n",
    "\n",
    "\n",
    "gx1.tick_params(axis='x', rotation=90) # rotating the genre names on the x axis for readability\n",
    "\n",
    "\n",
    "# creating the popularity graph\n",
    "y2 = [7.288281, 6.256002, 4.115594, 3.887870, 3.616680, 3.501395, 3.405418, 3.282500]  \n",
    "x2 = ['Action', 'Adventure', 'Crime', 'Biography', 'Comedy', 'Mystery', 'Animation', 'Romance']\n",
    "\n",
    "\n",
    "gx2.plot(x2, y2) # plotting the graph\n",
    "\n",
    "\n",
    "gx2.set_xlabel('Genres') #labeling the x and y axis  \n",
    "gx2.set_ylabel('Popularity')\n",
    "\n",
    "\n",
    "gx2.set_title('Popularity of Movies Based on Genre') #giving the plot a title\n",
    "\n",
    "gx2.tick_params(axis='x', rotation=90) # rotating the genre names on the x axis for readability\n",
    "plt.show()"
   ]
  },
  {
   "cell_type": "markdown",
   "metadata": {},
   "source": [
    "## ANALYSIS BASED ON RELEASE MONTH"
   ]
  },
  {
   "cell_type": "markdown",
   "metadata": {},
   "source": [
    "#### Popularity of movies based on release month"
   ]
  },
  {
   "cell_type": "code",
   "execution_count": 36,
   "metadata": {},
   "outputs": [
    {
     "data": {
      "text/html": [
       "<div>\n",
       "<style scoped>\n",
       "    .dataframe tbody tr th:only-of-type {\n",
       "        vertical-align: middle;\n",
       "    }\n",
       "\n",
       "    .dataframe tbody tr th {\n",
       "        vertical-align: top;\n",
       "    }\n",
       "\n",
       "    .dataframe thead th {\n",
       "        text-align: right;\n",
       "    }\n",
       "</style>\n",
       "<table border=\"1\" class=\"dataframe\">\n",
       "  <thead>\n",
       "    <tr style=\"text-align: right;\">\n",
       "      <th></th>\n",
       "      <th>month</th>\n",
       "      <th>average_popularity</th>\n",
       "    </tr>\n",
       "  </thead>\n",
       "  <tbody>\n",
       "    <tr>\n",
       "      <th>0</th>\n",
       "      <td>December</td>\n",
       "      <td>3.597107</td>\n",
       "    </tr>\n",
       "    <tr>\n",
       "      <th>1</th>\n",
       "      <td>July</td>\n",
       "      <td>3.586554</td>\n",
       "    </tr>\n",
       "    <tr>\n",
       "      <th>2</th>\n",
       "      <td>August</td>\n",
       "      <td>3.561893</td>\n",
       "    </tr>\n",
       "    <tr>\n",
       "      <th>3</th>\n",
       "      <td>February</td>\n",
       "      <td>3.239077</td>\n",
       "    </tr>\n",
       "    <tr>\n",
       "      <th>4</th>\n",
       "      <td>November</td>\n",
       "      <td>3.151852</td>\n",
       "    </tr>\n",
       "    <tr>\n",
       "      <th>5</th>\n",
       "      <td>September</td>\n",
       "      <td>3.144567</td>\n",
       "    </tr>\n",
       "  </tbody>\n",
       "</table>\n",
       "</div>"
      ],
      "text/plain": [
       "       month  average_popularity\n",
       "0   December            3.597107\n",
       "1       July            3.586554\n",
       "2     August            3.561893\n",
       "3   February            3.239077\n",
       "4   November            3.151852\n",
       "5  September            3.144567"
      ]
     },
     "execution_count": 36,
     "metadata": {},
     "output_type": "execute_result"
    }
   ],
   "source": [
    "# query to get the top ten most profitable months\n",
    "top_six_popular_months = \"\"\"SELECT CASE \n",
    "                                  WHEN strftime('%m', t.release_date) = '01' THEN 'January'\n",
    "                                  WHEN strftime('%m', t.release_date) = '02' THEN 'February'\n",
    "                                  WHEN strftime('%m', t.release_date) = '03' THEN 'March'\n",
    "                                  WHEN strftime('%m', t.release_date) = '04' THEN 'April'\n",
    "                                  WHEN strftime('%m', t.release_date) = '05' THEN 'May'\n",
    "                                  WHEN strftime('%m', t.release_date) = '06' THEN 'June'\n",
    "                                  WHEN strftime('%m', t.release_date) = '07' THEN 'July'\n",
    "                                  WHEN strftime('%m', t.release_date) = '08' THEN 'August'\n",
    "                                  WHEN strftime('%m', t.release_date) = '09' THEN 'September'\n",
    "                                  WHEN strftime('%m', t.release_date) = '10' THEN 'October'\n",
    "                                  WHEN strftime('%m', t.release_date) = '11' THEN 'November'\n",
    "                                  WHEN strftime('%m', t.release_date) = '12' THEN 'December'\n",
    "                             END AS month,\n",
    "                             AVG(t.popularity) AS average_popularity\n",
    "                             FROM tmdb_ratings AS t\n",
    "                             GROUP BY month\n",
    "                             ORDER BY average_popularity DESC\n",
    "                             LIMIT 6\"\"\"\n",
    "\n",
    "pd.read_sql(top_six_popular_months, conn)\n"
   ]
  },
  {
   "cell_type": "markdown",
   "metadata": {},
   "source": [
    "**Based on our observations, December releases were the most popular, with an average popularity of 3.60. Movies released in September were the sixth most popular at the box office, with an average popularity of 3.14. As a result, in order for our films to capture the attention of audiences, we should release them during the months mentioned above.**"
   ]
  },
  {
   "cell_type": "code",
   "execution_count": 37,
   "metadata": {},
   "outputs": [
    {
     "data": {
      "image/png": "[encoded data removed]",
      "text/plain": [
       "<Figure size 1080x360 with 1 Axes>"
      ]
     },
     "metadata": {
      "needs_background": "light"
     },
     "output_type": "display_data"
    }
   ],
   "source": [
    "data4 = pd.read_sql(top_six_popular_months,conn) # name variable\n",
    "\n",
    "plt.figure(figsize=(15, 5)) #set figure size\n",
    "\n",
    "plt.ylim(3.0,3.65) #set y axis to start from 3.0\n",
    "\n",
    "ax = sns.barplot(x='month', y='average_popularity', data=data4, ) #set points\n",
    "\n",
    "ax.set_title(\"Popularity against month\") # set title \n",
    "\n",
    "plt.xticks(rotation = 90) # set rotation of x values to 90 for easy readabilty\n",
    "\n",
    "plt.show()"
   ]
  },
  {
   "cell_type": "markdown",
   "metadata": {},
   "source": [
    "#### Profitability of movies based on months"
   ]
  },
  {
   "cell_type": "code",
   "execution_count": 38,
   "metadata": {},
   "outputs": [
    {
     "data": {
      "text/html": [
       "<div>\n",
       "<style scoped>\n",
       "    .dataframe tbody tr th:only-of-type {\n",
       "        vertical-align: middle;\n",
       "    }\n",
       "\n",
       "    .dataframe tbody tr th {\n",
       "        vertical-align: top;\n",
       "    }\n",
       "\n",
       "    .dataframe thead th {\n",
       "        text-align: right;\n",
       "    }\n",
       "</style>\n",
       "<table border=\"1\" class=\"dataframe\">\n",
       "  <thead>\n",
       "    <tr style=\"text-align: right;\">\n",
       "      <th></th>\n",
       "      <th>month</th>\n",
       "      <th>average_profitability</th>\n",
       "    </tr>\n",
       "  </thead>\n",
       "  <tbody>\n",
       "    <tr>\n",
       "      <th>0</th>\n",
       "      <td>May</td>\n",
       "      <td>207.358399</td>\n",
       "    </tr>\n",
       "    <tr>\n",
       "      <th>1</th>\n",
       "      <td>July</td>\n",
       "      <td>206.896757</td>\n",
       "    </tr>\n",
       "    <tr>\n",
       "      <th>2</th>\n",
       "      <td>June</td>\n",
       "      <td>205.066504</td>\n",
       "    </tr>\n",
       "    <tr>\n",
       "      <th>3</th>\n",
       "      <td>November</td>\n",
       "      <td>177.507728</td>\n",
       "    </tr>\n",
       "    <tr>\n",
       "      <th>4</th>\n",
       "      <td>December</td>\n",
       "      <td>163.321876</td>\n",
       "    </tr>\n",
       "    <tr>\n",
       "      <th>5</th>\n",
       "      <td>February</td>\n",
       "      <td>108.883688</td>\n",
       "    </tr>\n",
       "  </tbody>\n",
       "</table>\n",
       "</div>"
      ],
      "text/plain": [
       "      month  average_profitability\n",
       "0       May             207.358399\n",
       "1      July             206.896757\n",
       "2      June             205.066504\n",
       "3  November             177.507728\n",
       "4  December             163.321876\n",
       "5  February             108.883688"
      ]
     },
     "execution_count": 38,
     "metadata": {},
     "output_type": "execute_result"
    }
   ],
   "source": [
    "top_six_profitable_months = \"\"\"SELECT CASE \n",
    "                                  WHEN strftime('%m', t.release_date) = '01' THEN 'January'\n",
    "                                  WHEN strftime('%m', t.release_date) = '02' THEN 'February'\n",
    "                                  WHEN strftime('%m', t.release_date) = '03' THEN 'March'\n",
    "                                  WHEN strftime('%m', t.release_date) = '04' THEN 'April'\n",
    "                                  WHEN strftime('%m', t.release_date) = '05' THEN 'May'\n",
    "                                  WHEN strftime('%m', t.release_date) = '06' THEN 'June'\n",
    "                                  WHEN strftime('%m', t.release_date) = '07' THEN 'July'\n",
    "                                  WHEN strftime('%m', t.release_date) = '08' THEN 'August'\n",
    "                                  WHEN strftime('%m', t.release_date) = '09' THEN 'September'\n",
    "                                  WHEN strftime('%m', t.release_date) = '10' THEN 'October'\n",
    "                                  WHEN strftime('%m', t.release_date) = '11' THEN 'November'\n",
    "                                  WHEN strftime('%m', t.release_date) = '12' THEN 'December'\n",
    "                             END AS month,\n",
    "                            \n",
    "                             AVG(b.profitability) AS average_profitability\n",
    "                             FROM tmdb_ratings AS t\n",
    "                             JOIN film_budgets AS b ON t.original_title = b.movie\n",
    "                             GROUP BY month\n",
    "                             ORDER BY average_profitability DESC\n",
    "                             LIMIT 6\n",
    "                             \"\"\"\n",
    "\n",
    "pd.read_sql(top_six_profitable_months, conn)\n"
   ]
  },
  {
   "cell_type": "markdown",
   "metadata": {},
   "source": [
    "**From our observation May was the most profitable month in the box office with an average profit of 207.36 million dollars. February was the sixth most profitable month with an average profit of 108.88 million dollars** \n",
    "\n",
    "\n"
   ]
  },
  {
   "cell_type": "markdown",
   "metadata": {},
   "source": [
    "***Visual representation of the top 6 most profitable months***"
   ]
  },
  {
   "cell_type": "code",
   "execution_count": 39,
   "metadata": {},
   "outputs": [
    {
     "data": {
      "image/png": "[encoded data removed]",
      "text/plain": [
       "<Figure size 1080x360 with 1 Axes>"
      ]
     },
     "metadata": {
      "needs_background": "light"
     },
     "output_type": "display_data"
    }
   ],
   "source": [
    "#name variable\n",
    "data5 = pd.read_sql(top_six_profitable_months,conn)\n",
    "\n",
    "\n",
    "plt.figure(figsize=(15, 5)) # set figure size\n",
    "plt.ylim(100,225) #set y axis to start from 100 million$\n",
    "\n",
    "\n",
    "ax = sns.barplot(x='month', y='average_profitability', data=data5, ) # set points\n",
    "\n",
    "ax.set_title(\"Profitability against month\") # set movie title\n",
    "\n",
    "#set rotation of x values for better readability\n",
    "plt.xticks(rotation = 90)\n",
    "\n",
    "plt.show()"
   ]
  },
  {
   "cell_type": "markdown",
   "metadata": {},
   "source": [
    "### Popularity and profitability of movies based on release months\n",
    "\n",
    "We are going to merge data from the popularity data frame and the profitability data frame so that we can get relese months that were both profitable and popular"
   ]
  },
  {
   "cell_type": "code",
   "execution_count": 40,
   "metadata": {},
   "outputs": [],
   "source": [
    "# create a popularity data frame\n",
    "\n",
    "months = ['December', 'July', 'August', 'February', 'November', 'September']\n",
    "average_popularity = [3.597107, 3.586554, 3.561893, 3.239077, 3.151852, 3.144567]\n",
    "\n",
    "data2 = {'months':['December', 'July', 'August', 'February', 'November', 'September'],\n",
    "'average_popularity':[3.597107, 3.586554, 3.561893, 3.239077, 3.151852, 3.144567]}\n",
    "\n",
    "popular_months = pd.DataFrame(data2)\n",
    "\n",
    "#creating a profitability data frame\n",
    "\n",
    "months = ['May', 'July', 'June', 'November', 'December', 'February']\n",
    "average_profitability = [207.358399, 206.896757, 205.066504, 177.507728, 163.321876, 108.883688]\n",
    "\n",
    "data3= {'months':['May', 'July', 'June', 'November', 'December', 'February'],\n",
    "'average_profitability':[207.358399, 206.896757, 205.066504, 177.507728, 163.321876, 108.883688]}\n",
    "\n",
    "profitable_months = pd.DataFrame(data3)"
   ]
  },
  {
   "cell_type": "code",
   "execution_count": 41,
   "metadata": {},
   "outputs": [
    {
     "data": {
      "text/html": [
       "<div>\n",
       "<style scoped>\n",
       "    .dataframe tbody tr th:only-of-type {\n",
       "        vertical-align: middle;\n",
       "    }\n",
       "\n",
       "    .dataframe tbody tr th {\n",
       "        vertical-align: top;\n",
       "    }\n",
       "\n",
       "    .dataframe thead th {\n",
       "        text-align: right;\n",
       "    }\n",
       "</style>\n",
       "<table border=\"1\" class=\"dataframe\">\n",
       "  <thead>\n",
       "    <tr style=\"text-align: right;\">\n",
       "      <th></th>\n",
       "      <th>months</th>\n",
       "      <th>average_profitability</th>\n",
       "      <th>average_popularity</th>\n",
       "    </tr>\n",
       "  </thead>\n",
       "  <tbody>\n",
       "    <tr>\n",
       "      <th>0</th>\n",
       "      <td>July</td>\n",
       "      <td>206.896757</td>\n",
       "      <td>3.586554</td>\n",
       "    </tr>\n",
       "    <tr>\n",
       "      <th>1</th>\n",
       "      <td>November</td>\n",
       "      <td>177.507728</td>\n",
       "      <td>3.151852</td>\n",
       "    </tr>\n",
       "    <tr>\n",
       "      <th>2</th>\n",
       "      <td>December</td>\n",
       "      <td>163.321876</td>\n",
       "      <td>3.597107</td>\n",
       "    </tr>\n",
       "    <tr>\n",
       "      <th>3</th>\n",
       "      <td>February</td>\n",
       "      <td>108.883688</td>\n",
       "      <td>3.239077</td>\n",
       "    </tr>\n",
       "  </tbody>\n",
       "</table>\n",
       "</div>"
      ],
      "text/plain": [
       "     months  average_profitability  average_popularity\n",
       "0      July             206.896757            3.586554\n",
       "1  November             177.507728            3.151852\n",
       "2  December             163.321876            3.597107\n",
       "3  February             108.883688            3.239077"
      ]
     },
     "execution_count": 41,
     "metadata": {},
     "output_type": "execute_result"
    }
   ],
   "source": [
    "# merging the data frames on the months column using an inner join so as to get months that are both profitable and popular.\n",
    "\n",
    "most_popular_profitable_months= pd.merge(profitable_months,popular_months, on='months',how = 'inner')\n",
    "most_popular_profitable_months"
   ]
  },
  {
   "cell_type": "markdown",
   "metadata": {},
   "source": [
    "***From our observation the following months were the most profitable and most popular release months in the box office***"
   ]
  },
  {
   "cell_type": "markdown",
   "metadata": {},
   "source": [
    "\n",
    "\n",
    "***Visual presentation of the most popular_profitable release months***"
   ]
  },
  {
   "cell_type": "code",
   "execution_count": 42,
   "metadata": {},
   "outputs": [
    {
     "data": {
      "image/png": "[encoded data removed]",
      "text/plain": [
       "<Figure size 1080x360 with 2 Axes>"
      ]
     },
     "metadata": {
      "needs_background": "light"
     },
     "output_type": "display_data"
    }
   ],
   "source": [
    "fig, (mx1, mx2) = plt.subplots(1, 2, figsize=(15, 5)) # Create subplots with 1 row and 2 columns\n",
    "\n",
    "# Creating the profitability graph\n",
    "\n",
    "x1 = ['July','November', 'December', 'February']\n",
    "y1= [206.896757,177.507728, 163.321876, 108.883688]\n",
    "\n",
    "\n",
    "mx1.plot(x1, y1) #plotting the graph\n",
    "\n",
    "\n",
    "mx1.set_xlabel('Release Month') # labeling the x and y axis \n",
    "mx1.set_ylabel('Profitability')\n",
    "\n",
    "\n",
    "mx1.set_title('Profitability of Movies Based on Release Months') #giving the plot a title\n",
    "\n",
    "\n",
    "mx1.tick_params(axis='x', rotation=90) # rotating the months on the x axis for readability\n",
    "\n",
    "\n",
    "# creating the popularity graph\n",
    "x2 = ['December', 'July', 'February', 'November']\n",
    "y2 = [3.597107, 3.586554, 3.239077, 3.151852]\n",
    "\n",
    "mx2.plot(x2, y2) # plotting the graph\n",
    "\n",
    "\n",
    "mx2.set_xlabel('Rease Month') #labeling the x and y axis  \n",
    "mx2.set_ylabel('Popularity')\n",
    "\n",
    "\n",
    "mx2.set_title('Popularity of Movies Based on Release Months') #giving the plot a title\n",
    "\n",
    "mx2.tick_params(axis='x', rotation=90) # rotating the months on the x axis for readability\n",
    "plt.show()"
   ]
  },
  {
   "cell_type": "markdown",
   "metadata": {},
   "source": [
    "***July, November, December and February were the most profitable and popular release months in the box office***"
   ]
  },
  {
   "cell_type": "markdown",
   "metadata": {},
   "source": [
    "## BUSINESS SOLUTIONS"
   ]
  },
  {
   "cell_type": "markdown",
   "metadata": {},
   "source": [
    "#### MOVIE GENRES"
   ]
  },
  {
   "cell_type": "markdown",
   "metadata": {},
   "source": [
    "Following extensive research and analysis of box office movie patterns, certain movie genres consistently stand out as the most popular and profitable options. This genres include Adventure, animation, action, mystery, romance, biography, and comedy. To maximize return on investment and ensure commercial success in the industry, the company should strategically focus on producing films within the top ten most profitable genres and popular genres.\n",
    "\n",
    "**INSIGHT**\n",
    "\n",
    "    1. Identifying Profitable Genres: According to the research findings, the genres of adventure, animation, action,    \n",
    "    mystery,romance, biography, and comedy have consistently demonstrated high popularity and profitability at the box\n",
    "    office. By focusing film production efforts on these genres, the company can increase chances of financial success\n",
    "    and a significant return on investment.\n",
    "    \n",
    "    2.Meeting Audience Preferences: These genres have a strong audience engagment, indicating a high demand for \n",
    "    these types of films. The company can strengthen its connection with viewers and improve its overall market position \n",
    "    by catering to their preferences.\n",
    "    \n",
    "    3.Risk Mitigation: Investing in film production entails inherent risks, such as uncertainties in audience reception and revenue generation. This risks can be reduced by focusing on genres with a proven track record of success.\n",
    "    \n",
    "    \n",
    "**PROPOSAL**\n",
    "\n",
    "I propose the following strategies to capitalize on the research findings and ensure a profitable venture in the film industry:\n",
    "\n",
    "\n",
    "    1. Genre-Focused Content Creation: Dedicate resources and efforts to creating a significant portion of film projects in the top ten most profitable and popular genres putting emphasis on the genres that appear in both. This will allow \n",
    "    the company to focus on areas with a higher likelihood of box office success.\n",
    "    \n",
    "    2.Market Research and Trend Analysis: Continue to conduct extensive market research and trend analysis to stay informed of shifting audience preferences. This will allow the company to adjust the production schedule \n",
    "    accordingly and capitalize on emerging trends.This will also enable the company to make data driven descisions.\n",
    "    "
   ]
  },
  {
   "cell_type": "markdown",
   "metadata": {},
   "source": [
    "#### RELEASE MONTHS"
   ]
  },
  {
   "cell_type": "markdown",
   "metadata": {},
   "source": [
    "Based on the analysis of movie data, it has been observed that certain release months have both high profitability and popularity. Specifically, the months of December, July, February, and November.\n",
    "\n",
    "**INSIGHT**\n",
    "\n",
    "    1.The month of December is generally known as a peak movie-going season due to the holidays and festivity.  As a result, movie releases during December often attract larger audiences, leading to increased box office revenues hence\n",
    "    profitability.\n",
    "    \n",
    "    2.November, being the month preceding the holiday season, also has an increase in audience enthusiasm for new film \n",
    "    releases, making it an ideal time for movie releases.\n",
    "    \n",
    "    3.From our analysis, July and February are also great months for movie releases.\n",
    "    \n",
    "**PROPOSAL** \n",
    "\n",
    "I propose the following strategies to ensure a successful venture in the film industry.\n",
    "\n",
    "    1.Focus on High-Performance Months: Set aside a significant portion of film releases for the top ten most profitable\n",
    "    and popular release months, putting an emphasis on the months that appear in both.\n",
    "    \n",
    "    2.Plan the film production schedules to coincide with the high-performing months.\n",
    "    \n",
    "    3.Use data analytics and market research to fine-tune marketing strategies for film releases during these peak\n",
    "    months.\n",
    "    \n",
    "By focusing on the identified release months, the company will be able to capitalize on peak audience interest and maximize profitability."
   ]
  }
 ],
 "metadata": {
  "kernelspec": {
   "display_name": "Python 3",
   "language": "python",
   "name": "python3"
  },
  "language_info": {
   "codemirror_mode": {
    "name": "ipython",
    "version": 3
   },
   "file_extension": ".py",
   "mimetype": "text/x-python",
   "name": "python",
   "nbconvert_exporter": "python",
   "pygments_lexer": "ipython3",
   "version": "3.8.5"
  }
 },
 "nbformat": 4,
 "nbformat_minor": 2
}
